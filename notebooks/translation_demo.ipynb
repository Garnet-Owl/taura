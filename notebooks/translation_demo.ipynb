{
 "cells": [
  {
   "cell_type": "markdown",
   "metadata": {},
   "source": [
    "# Taura: Kikuyu-English Translation Demo\n",
    "\n",
    "This notebook demonstrates how to use the Taura translation model for Kikuyu-English translation."
   ]
  },
  {
   "cell_type": "markdown",
   "metadata": {},
   "source": [
    "## Setup\n",
    "\n",
    "First, let's import the necessary libraries and set up our environment."
   ]
  },
  {
   "cell_type": "code",
   "metadata": {
    "ExecuteTime": {
     "end_time": "2025-02-22T10:41:50.515045Z",
     "start_time": "2025-02-22T10:41:40.830622Z"
    }
   },
   "source": [
    "import sys\n",
    "import os\n",
    "from pathlib import Path\n",
    "\n",
    "# Add the src directory to the path so we can import our modules\n",
    "sys.path.append('../src')\n",
    "\n",
    "# Import our translation model\n",
    "from src.models.translation_model import KikuyuEnglishTranslator\n",
    "from transformers import AutoTokenizer\n",
    "\n",
    "# Set up paths\n",
    "MODELS_DIR = Path('../models')"
   ],
   "outputs": [],
   "execution_count": 1
  },
  {
   "cell_type": "markdown",
   "metadata": {},
   "source": [
    "## Load Tokenizer and Model\n",
    "\n",
    "Now, let's load the tokenizer and a pretrained model. If you've already trained your own model, you can load that instead."
   ]
  },
  {
   "cell_type": "code",
   "metadata": {
    "ExecuteTime": {
     "end_time": "2025-02-22T10:41:56.334462Z",
     "start_time": "2025-02-22T10:41:51.023071Z"
    }
   },
   "source": [
    "# Load tokenizer\n",
    "tokenizer_name = \"Helsinki-NLP/opus-mt-en-mul\"  # Default tokenizer\n",
    "tokenizer = AutoTokenizer.from_pretrained(tokenizer_name)\n",
    "print(f\"Loaded tokenizer: {tokenizer_name}\")\n",
    "\n",
    "# Initialize translator with a pretrained model\n",
    "# Note: For real translation, you should load your trained model instead\n",
    "translator = KikuyuEnglishTranslator(model_name=tokenizer_name)\n",
    "print(\"Translator initialized\")"
   ],
   "outputs": [
    {
     "name": "stdout",
     "output_type": "stream",
     "text": [
      "Loaded tokenizer: Helsinki-NLP/opus-mt-en-mul\n",
      "Model initialized and moved to cpu\n",
      "Model parameters: 77,487,104\n",
      "Translator initialized\n"
     ]
    }
   ],
   "execution_count": 2
  },
  {
   "cell_type": "markdown",
   "metadata": {},
   "source": [
    "## Load Our Dataset\n",
    "\n",
    "Let's load and explore the Kikuyu-English dataset."
   ]
  },
  {
   "cell_type": "code",
   "metadata": {
    "ExecuteTime": {
     "end_time": "2025-02-22T10:41:59.330784Z",
     "start_time": "2025-02-22T10:41:57.567549Z"
    }
   },
   "source": [
    "import pandas as pd\n",
    "\n",
    "# Load the dataset\n",
    "data_path = Path('../data/English20Kikuyu20Pairs2029.xlsx')\n",
    "df = pd.read_excel(data_path)\n",
    "\n",
    "# Display the first few rows\n",
    "print(f\"Dataset shape: {df.shape}\")\n",
    "df.head()"
   ],
   "outputs": [
    {
     "name": "stdout",
     "output_type": "stream",
     "text": [
      "Dataset shape: (420, 2)\n"
     ]
    },
    {
     "data": {
      "text/plain": [
       "                                             English  \\\n",
       "0  Which varieties of coffee are grown in the Kenya?   \n",
       "1  SL 34 suitable for high altitude area;SL 28 at...   \n",
       "2  K7 suitable for low altitude area, has good ro...   \n",
       "3  Ruiru 11 is suited to all coffee growing zones...   \n",
       "4  Batian is the newest variety in the country, i...   \n",
       "\n",
       "                                              Kikuyu  \n",
       "0    Nī mīthemba īrīkū ya kahūa īkūragio gūkū Kenya?  \n",
       "1  SL 34 īrīa īhandagūo kūndū kūrīa kūrī irīma; S...  \n",
       "2  K7 nīyagīraga kūndū kūrīa gūtarī igūrū mūno, ī...  \n",
       "3  Mūthemba wa Ruiru 11 ūhandagwo kūndū guothe kū...  \n",
       "4  Batian nī mūthemba ūrīa mūerū mūno būrūri-inī ...  "
      ],
      "text/html": [
       "<div>\n",
       "<style scoped>\n",
       "    .dataframe tbody tr th:only-of-type {\n",
       "        vertical-align: middle;\n",
       "    }\n",
       "\n",
       "    .dataframe tbody tr th {\n",
       "        vertical-align: top;\n",
       "    }\n",
       "\n",
       "    .dataframe thead th {\n",
       "        text-align: right;\n",
       "    }\n",
       "</style>\n",
       "<table border=\"1\" class=\"dataframe\">\n",
       "  <thead>\n",
       "    <tr style=\"text-align: right;\">\n",
       "      <th></th>\n",
       "      <th>English</th>\n",
       "      <th>Kikuyu</th>\n",
       "    </tr>\n",
       "  </thead>\n",
       "  <tbody>\n",
       "    <tr>\n",
       "      <th>0</th>\n",
       "      <td>Which varieties of coffee are grown in the Kenya?</td>\n",
       "      <td>Nī mīthemba īrīkū ya kahūa īkūragio gūkū Kenya?</td>\n",
       "    </tr>\n",
       "    <tr>\n",
       "      <th>1</th>\n",
       "      <td>SL 34 suitable for high altitude area;SL 28 at...</td>\n",
       "      <td>SL 34 īrīa īhandagūo kūndū kūrīa kūrī irīma; S...</td>\n",
       "    </tr>\n",
       "    <tr>\n",
       "      <th>2</th>\n",
       "      <td>K7 suitable for low altitude area, has good ro...</td>\n",
       "      <td>K7 nīyagīraga kūndū kūrīa gūtarī igūrū mūno, ī...</td>\n",
       "    </tr>\n",
       "    <tr>\n",
       "      <th>3</th>\n",
       "      <td>Ruiru 11 is suited to all coffee growing zones...</td>\n",
       "      <td>Mūthemba wa Ruiru 11 ūhandagwo kūndū guothe kū...</td>\n",
       "    </tr>\n",
       "    <tr>\n",
       "      <th>4</th>\n",
       "      <td>Batian is the newest variety in the country, i...</td>\n",
       "      <td>Batian nī mūthemba ūrīa mūerū mūno būrūri-inī ...</td>\n",
       "    </tr>\n",
       "  </tbody>\n",
       "</table>\n",
       "</div>"
      ]
     },
     "execution_count": 3,
     "metadata": {},
     "output_type": "execute_result"
    }
   ],
   "execution_count": 3
  },
  {
   "cell_type": "markdown",
   "metadata": {},
   "source": [
    "## Data Exploration\n",
    "\n",
    "Let's explore the dataset to understand its structure and content."
   ]
  },
  {
   "cell_type": "code",
   "metadata": {
    "ExecuteTime": {
     "end_time": "2025-02-22T10:42:00.047536Z",
     "start_time": "2025-02-22T10:41:59.684971Z"
    }
   },
   "source": [
    "import matplotlib.pyplot as plt\n",
    "import seaborn as sns\n",
    "\n",
    "# Check for missing values\n",
    "missing_values = df.isnull().sum()\n",
    "print(\"Missing values per column:\")\n",
    "print(missing_values)\n",
    "\n",
    "# Analyze text length\n",
    "if 'English' in df.columns and 'Kikuyu' in df.columns:\n",
    "    df['english_length'] = df['English'].astype(str).apply(len)\n",
    "    df['kikuyu_length'] = df['Kikuyu'].astype(str).apply(len)\n",
    "    \n",
    "    print(\"\\nText length statistics (characters):\")\n",
    "    print(\"English text length:\")\n",
    "    print(df['english_length'].describe())\n",
    "    print(\"\\nKikuyu text length:\")\n",
    "    print(df['kikuyu_length'].describe())\n",
    "    \n",
    "    # Visualize length distribution\n",
    "    plt.figure(figsize=(10, 6))\n",
    "    plt.scatter(df['english_length'], df['kikuyu_length'], alpha=0.5)\n",
    "    plt.xlabel('English Text Length')\n",
    "    plt.ylabel('Kikuyu Text Length')\n",
    "    plt.title('Text Length Comparison: English vs Kikuyu')\n",
    "    plt.show()"
   ],
   "outputs": [
    {
     "name": "stdout",
     "output_type": "stream",
     "text": [
      "Missing values per column:\n",
      "English    0\n",
      "Kikuyu     0\n",
      "dtype: int64\n",
      "\n",
      "Text length statistics (characters):\n",
      "English text length:\n",
      "count    420.000000\n",
      "mean      94.864286\n",
      "std       50.583452\n",
      "min       18.000000\n",
      "25%       53.000000\n",
      "50%       86.000000\n",
      "75%      126.000000\n",
      "max      293.000000\n",
      "Name: english_length, dtype: float64\n",
      "\n",
      "Kikuyu text length:\n",
      "count    420.000000\n",
      "mean      94.509524\n",
      "std       49.540634\n",
      "min       22.000000\n",
      "25%       54.000000\n",
      "50%       87.500000\n",
      "75%      118.000000\n",
      "max      314.000000\n",
      "Name: kikuyu_length, dtype: float64\n"
     ]
    },
    {
     "data": {
      "text/plain": [
       "<Figure size 1000x600 with 1 Axes>"
      ],
      "image/png": "[encoded data removed]"
     },
     "metadata": {},
     "output_type": "display_data"
    }
   ],
   "execution_count": 4
  },
  {
   "cell_type": "markdown",
   "metadata": {},
   "source": [
    "## Translation Demo\n",
    "\n",
    "Now, let's demonstrate translation in both directions: English to Kikuyu and Kikuyu to English (if available)."
   ]
  },
  {
   "cell_type": "code",
   "metadata": {
    "ExecuteTime": {
     "end_time": "2025-02-22T10:42:00.246346Z",
     "start_time": "2025-02-22T10:42:00.239128Z"
    }
   },
   "source": [
    "def translate_text(text, lang_direction=\"en-to-kik\"):\n",
    "    \"\"\"\n",
    "    Translate a text between English and Kikuyu.\n",
    "    \n",
    "    Args:\n",
    "        text (str): The text to translate\n",
    "        lang_direction (str): Direction of translation ('en-to-kik' or 'kik-to-en')\n",
    "        \n",
    "    Returns:\n",
    "        str: Translated text\n",
    "    \"\"\"\n",
    "    if lang_direction == \"en-to-kik\":\n",
    "        # English to Kikuyu\n",
    "        return translator.translate(text, tokenizer)\n",
    "    else:\n",
    "        # For Kikuyu to English, we would need a different model or approach\n",
    "        # This is a placeholder for now\n",
    "        return \"[Kikuyu to English translation not yet implemented]\""
   ],
   "outputs": [],
   "execution_count": 5
  },
  {
   "cell_type": "code",
   "metadata": {
    "ExecuteTime": {
     "end_time": "2025-02-22T10:42:09.663281Z",
     "start_time": "2025-02-22T10:42:00.427527Z"
    }
   },
   "source": [
    "# English to Kikuyu examples\n",
    "english_examples = [\n",
    "    \"Hello, how are you?\",\n",
    "    \"What is your name?\",\n",
    "    \"I love learning languages.\",\n",
    "    \"Kenya is a beautiful country.\"\n",
    "]\n",
    "\n",
    "print(\"English to Kikuyu Translation Examples:\")\n",
    "for text in english_examples:\n",
    "    translation = translate_text(text, \"en-to-kik\")\n",
    "    print(f\"English: {text}\")\n",
    "    print(f\"Kikuyu: {translation}\")\n",
    "    print(\"---\")"
   ],
   "outputs": [
    {
     "name": "stdout",
     "output_type": "stream",
     "text": [
      "English to Kikuyu Translation Examples:\n",
      "English: Hello, how are you?\n",
      "Kikuyu: Halo, how's you?\n",
      "---\n",
      "English: What is your name?\n",
      "Kikuyu: ./Char is your name?\n",
      "---\n",
      "English: I love learning languages.\n",
      "Kikuyu: Like me studend languages.\n",
      "---\n",
      "English: Kenya is a beautiful country.\n",
      "Kikuyu: Kenya is a beautiful pay.\n",
      "---\n"
     ]
    }
   ],
   "execution_count": 6
  },
  {
   "cell_type": "code",
   "metadata": {
    "ExecuteTime": {
     "end_time": "2025-02-22T10:42:53.324539Z",
     "start_time": "2025-02-22T10:42:11.209146Z"
    }
   },
   "source": [
    "# Try with some examples from our dataset\n",
    "print(\"Dataset Examples:\")\n",
    "for i in range(min(5, len(df))):\n",
    "    if 'English' in df.columns and 'Kikuyu' in df.columns:\n",
    "        english_text = df.iloc[i]['English']\n",
    "        kikuyu_text = df.iloc[i]['Kikuyu']\n",
    "        \n",
    "        print(f\"English (Original): {english_text}\")\n",
    "        print(f\"Kikuyu (Original): {kikuyu_text}\")\n",
    "        \n",
    "        # Translate English to Kikuyu\n",
    "        translated_kikuyu = translate_text(english_text, \"en-to-kik\")\n",
    "        print(f\"Kikuyu (Translated): {translated_kikuyu}\")\n",
    "        print(\"---\")"
   ],
   "outputs": [
    {
     "name": "stdout",
     "output_type": "stream",
     "text": [
      "Dataset Examples:\n",
      "English (Original): Which varieties of coffee are grown in the Kenya?\n",
      "Kikuyu (Original): Nī mīthemba īrīkū ya kahūa īkūragio gūkū Kenya?\n",
      "Kikuyu (Translated): Qual sortes de kafe cultures in Kenya?\n",
      "---\n",
      "English (Original): SL 34 suitable for high altitude area;SL 28 at a spacing of 9ft by 9ft suitable for medium to high altitude area, has good rooting system, high yielder but susceptible to diseases.\n",
      "Kikuyu (Original): SL 34 īrīa īhandagūo kūndū kūrīa kūrī irīma; SL 28 īhandagūo na ūtaganu  wa fiti kenda gwa kenda na yagīrīire kūhandwo kūndū kūrīa kūrī irīma, īkoragwo na mīri mīega, īgīaga na magetha maingī no nīinyitagwo nī mīrimū raithi.\n",
      "Kikuyu (Translated): SL 34 appropriated for highhighting area; SL 28, en spaciation de 9ft per 9ft, adaptes para medium to altitude area, existing good rooting system, high producenter, men susceptible for disease.\n",
      "---\n",
      "English (Original): K7 suitable for low altitude area, has good rooting system, high yielder but susceptible to diseases. \n",
      "Kikuyu (Original): K7 nīyagīraga kūndū kūrīa gūtarī igūrū mūno, īkoragwo na mīri mīega, īciaraga mūno noo nīīnyitagwo nī mīrimū raithi.\n",
      "Kikuyu (Translated): K7, appropriated for low altitude area, existing good root system, high producenter, pero susceptible for disease.\n",
      "---\n",
      "English (Original): Ruiru 11 is suited to all coffee growing zones in Kenya at a spacing of 6ft by 6ft. It is a high yielder, has best population per unit, high disease tolerance but with poor rooting system.\n",
      "Kikuyu (Original): Mūthemba wa Ruiru 11 ūhandagwo kūndū guothe kūrīa gūkūragio kahūa Kenya na ūtaganu wa futi ithathatū gwa ithathatū. Nīūkoragwo na maciaro maingī, na ūkoragwo na ūhoti mūnene wa kūhūrana na mīrimū noo ndīrī mīri mīega mūno.\n",
      "Kikuyu (Translated): Ruiru 11 is appropriated for all cafe cresting zones in Kenya in Kenya at a spaciation of 6ft by 6ft. It's a high producenter, has best population per unit, tolerance de 高 disease tolerance, men de power rooting system.\n",
      "---\n",
      "English (Original): Batian is the newest variety in the country, is suited to all coffee growing zones in Kenya, a high yielder, has good population per unit, moderate disease tolerance but with moderate rooting system.\n",
      "Kikuyu (Original): Batian nī mūthemba ūrīa mūerū mūno būrūri-inī ūyū, nīūhandagwo kūndū guothe kūrīa gūkūragio kahūa Kenya, nīūciaraga mūno, nīūhandagwo itina nyingī harī īka, nīūhotaga gūitiria mīrimū na nīngīūkoragwo na mīri ītambaga kūndū kūnene.\n",
      "Kikuyu (Translated): Batian is the nuvaste variedad in the land, is appropriated for all cafe cresting zones in Kenya, a high producenter, existing good population per unit, moderat tolerance of disease, associated and moderate rooting system.\n",
      "---\n"
     ]
    }
   ],
   "execution_count": 7
  },
  {
   "cell_type": "markdown",
   "metadata": {},
   "source": [
    "## Interactive Translation\n",
    "\n",
    "Let's create an interactive cell where you can input any text to translate."
   ]
  },
  {
   "cell_type": "code",
   "metadata": {
    "ExecuteTime": {
     "end_time": "2025-02-22T10:42:53.404425Z",
     "start_time": "2025-02-22T10:42:53.346136Z"
    }
   },
   "source": [
    "from IPython.display import display\n",
    "import ipywidgets as widgets\n",
    "\n",
    "# Create text input and output widgets\n",
    "text_input = widgets.Textarea(\n",
    "    value='',\n",
    "    placeholder='Enter text to translate',\n",
    "    description='Input:',\n",
    "    disabled=False,\n",
    "    layout=widgets.Layout(width='100%', height='100px')\n",
    ")\n",
    "\n",
    "direction_dropdown = widgets.Dropdown(\n",
    "    options=['English to Kikuyu', 'Kikuyu to English'],\n",
    "    value='English to Kikuyu',\n",
    "    description='Direction:',\n",
    "    disabled=False,\n",
    ")\n",
    "\n",
    "output_text = widgets.Textarea(\n",
    "    value='',\n",
    "    placeholder='Translation will appear here',\n",
    "    description='Output:',\n",
    "    disabled=True,\n",
    "    layout=widgets.Layout(width='100%', height='100px')\n",
    ")\n",
    "\n",
    "# Create a button to trigger translation\n",
    "button = widgets.Button(\n",
    "    description='Translate',\n",
    "    disabled=False,\n",
    "    button_style='primary',\n",
    "    tooltip='Click to translate',\n",
    "    icon='check'\n",
    ")\n",
    "\n",
    "# Define the button click event\n",
    "def on_button_clicked(b):\n",
    "    input_text = text_input.value\n",
    "    direction = \"en-to-kik\" if direction_dropdown.value == \"English to Kikuyu\" else \"kik-to-en\"\n",
    "    \n",
    "    if input_text.strip():\n",
    "        translation = translate_text(input_text, direction)\n",
    "        output_text.value = translation\n",
    "    else:\n",
    "        output_text.value = \"Please enter some text to translate.\"\n",
    "\n",
    "# Connect the button click event\n",
    "button.on_click(on_button_clicked)\n",
    "\n",
    "# Display the widgets\n",
    "display(text_input)\n",
    "display(direction_dropdown)\n",
    "display(button)\n",
    "display(output_text)"
   ],
   "outputs": [
    {
     "data": {
      "text/plain": [
       "Textarea(value='', description='Input:', layout=Layout(height='100px', width='100%'), placeholder='Enter text …"
      ],
      "application/vnd.jupyter.widget-view+json": {
       "version_major": 2,
       "version_minor": 0,
       "model_id": "464d32ffc06940a88f275f62831209c8"
      }
     },
     "metadata": {},
     "output_type": "display_data"
    },
    {
     "data": {
      "text/plain": [
       "Dropdown(description='Direction:', options=('English to Kikuyu', 'Kikuyu to English'), value='English to Kikuy…"
      ],
      "application/vnd.jupyter.widget-view+json": {
       "version_major": 2,
       "version_minor": 0,
       "model_id": "328fb43b51844613905a379d52ee540b"
      }
     },
     "metadata": {},
     "output_type": "display_data"
    },
    {
     "data": {
      "text/plain": [
       "Button(button_style='primary', description='Translate', icon='check', style=ButtonStyle(), tooltip='Click to t…"
      ],
      "application/vnd.jupyter.widget-view+json": {
       "version_major": 2,
       "version_minor": 0,
       "model_id": "7e097bc47edc404abed324dcab48924d"
      }
     },
     "metadata": {},
     "output_type": "display_data"
    },
    {
     "data": {
      "text/plain": [
       "Textarea(value='', description='Output:', disabled=True, layout=Layout(height='100px', width='100%'), placehol…"
      ],
      "application/vnd.jupyter.widget-view+json": {
       "version_major": 2,
       "version_minor": 0,
       "model_id": "d0edb8b977c74135b8e1cd047061b427"
      }
     },
     "metadata": {},
     "output_type": "display_data"
    }
   ],
   "execution_count": 8
  },
  {
   "cell_type": "markdown",
   "metadata": {},
   "source": [
    "## Next Steps\n",
    "\n",
    "Here are some next steps for improving the translation model:\n",
    "\n",
    "1. **Train the model**: Use the training script to fine-tune a model on the Kikuyu-English dataset.\n",
    "2. **Collect more data**: The more parallel data you have, the better the model will be.\n",
    "3. **Evaluate performance**: Use the evaluation script to measure BLEU scores and other metrics.\n",
    "4. **Add Kikuyu to English direction**: Train or adapt a model for translating in the other direction.\n",
    "5. **Optimize for production**: Consider model compression techniques for deploying in resource-constrained environments."
   ]
  }
 ],
 "metadata": {
  "kernelspec": {
   "display_name": "Python 3",
   "language": "python",
   "name": "python3"
  },
  "language_info": {
   "codemirror_mode": {
    "name": "ipython",
    "version": 3
   },
   "file_extension": ".py",
   "mimetype": "text/x-python",
   "name": "python",
   "nbconvert_exporter": "python",
   "pygments_lexer": "ipython3",
   "version": "3.8.10"
  }
 },
 "nbformat": 4,
 "nbformat_minor": 4
}
